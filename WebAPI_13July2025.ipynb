{
 "cells": [
  {
   "cell_type": "code",
   "execution_count": null,
   "id": "9e175d23-95a7-4f36-8f33-14aab4d614d2",
   "metadata": {},
   "outputs": [
    {
     "name": "stdout",
     "output_type": "stream",
     "text": [
      " * Serving Flask app '__main__'\n",
      " * Debug mode: off\n"
     ]
    },
    {
     "name": "stderr",
     "output_type": "stream",
     "text": [
      "WARNING: This is a development server. Do not use it in a production deployment. Use a production WSGI server instead.\n",
      " * Running on http://127.0.0.1:5004\n",
      "Press CTRL+C to quit\n",
      "127.0.0.1 - - [19/Jul/2025 12:05:57] \"POST /show HTTP/1.1\" 405 -\n",
      "127.0.0.1 - - [19/Jul/2025 12:06:09] \"GET /show HTTP/1.1\" 200 -\n",
      "127.0.0.1 - - [19/Jul/2025 12:06:30] \"POST /delete HTTP/1.1\" 200 -\n",
      "127.0.0.1 - - [19/Jul/2025 12:07:07] \"POST /delete HTTP/1.1\" 200 -\n",
      "127.0.0.1 - - [19/Jul/2025 12:07:14] \"POST /delete HTTP/1.1\" 200 -\n"
     ]
    }
   ],
   "source": [
    "from flask import Flask,request\n",
    "\n",
    "import sqlite3\n",
    "\n",
    "app = Flask(__name__)\n",
    "\n",
    "@app.route(\"/register\", methods = ['POST'])\n",
    "def register():\n",
    "    try:\n",
    "        data = request.get_json()\n",
    "        connection = sqlite3.connect(\"sample.db\")\n",
    "        cursor = connection.cursor()\n",
    "        cursor.execute(\"Create Table If Not Exists employee(ID text, password Text)\")\n",
    "        cursor.execute(\"Insert Into employee values ('{}', '{}')\".format(data[\"id\"], data[\"password\"]))\n",
    "        connection.commit()\n",
    "        connection.close()\n",
    "        return \"Employees Details have been registerd successfully\"\n",
    "    \n",
    "    except:\n",
    "        return \"While registering your data you have not provided suffient details\"\n",
    "    \n",
    "\n",
    "@app.route(\"/show\") \n",
    "def show():\n",
    "    connection = sqlite3.connect(\"sample.db\")\n",
    "    cursor = connection.cursor()\n",
    "    employee_data = list(cursor.execute(\"SELECT * FROM employee\"))\n",
    "    return {\"Employee_details\" : employee_data}\n",
    "\n",
    "@app.route(\"/update\", methods = ['POST'])\n",
    "\n",
    "def update():\n",
    "    try:\n",
    "        data = request.get_json()\n",
    "        connection = sqlite3.connect(\"sample.db\")\n",
    "        cursor = connection.cursor()\n",
    "        cursor.execute(\"UPDATE employee SET password = '{}' where id ='{}'\".format(data[\"password\"], data[\"id\"]))\n",
    "        connection.commit()\n",
    "        connection.close()\n",
    "        return \"Employees password have been updated successfully\"\n",
    "\n",
    "    except:\n",
    "        return \"There is some error in your input please try again later\"\n",
    "\n",
    "@app.route(\"/delete\", methods = ['POST'])\n",
    "def delete():\n",
    "    try:\n",
    "        data = request.get_json()\n",
    "        connection = sqlite3.connect(\"sample.db\")\n",
    "        cursor = connection.cursor()\n",
    "        cursor.execute(\"DELETE from employee where id = '{}'\".format(data[\"id\"]))\n",
    "        connection.commit()\n",
    "        if cursor.rowcount == 0:\n",
    "            return \"Account Not Found\"\n",
    "        \n",
    "        return \"Employee details have been deleted successfully\"\n",
    "        connection.close()\n",
    "    except:\n",
    "     return \"Unable to find account\"\n",
    "    \n",
    "    \n",
    "app.run(port = 5004)"
   ]
  },
  {
   "cell_type": "code",
   "execution_count": null,
   "id": "02cfd005-9f45-4996-b6f0-c7d93431ac65",
   "metadata": {},
   "outputs": [],
   "source": []
  },
  {
   "cell_type": "code",
   "execution_count": null,
   "id": "1fcafaf4-4d2e-471c-910c-105fe407a2e5",
   "metadata": {},
   "outputs": [],
   "source": []
  }
 ],
 "metadata": {
  "kernelspec": {
   "display_name": "Python 3 (ipykernel)",
   "language": "python",
   "name": "python3"
  },
  "language_info": {
   "codemirror_mode": {
    "name": "ipython",
    "version": 3
   },
   "file_extension": ".py",
   "mimetype": "text/x-python",
   "name": "python",
   "nbconvert_exporter": "python",
   "pygments_lexer": "ipython3",
   "version": "3.13.5"
  }
 },
 "nbformat": 4,
 "nbformat_minor": 5
}
