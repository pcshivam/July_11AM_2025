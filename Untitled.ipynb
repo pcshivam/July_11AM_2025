{
 "cells": [
  {
   "cell_type": "code",
   "execution_count": null,
   "id": "e2a166ef-1ea9-46cf-ba12-83942d2dff12",
   "metadata": {},
   "outputs": [
    {
     "name": "stdout",
     "output_type": "stream",
     "text": [
      " * Serving Flask app '__main__'\n",
      " * Debug mode: off\n"
     ]
    },
    {
     "name": "stderr",
     "output_type": "stream",
     "text": [
      "WARNING: This is a development server. Do not use it in a production deployment. Use a production WSGI server instead.\n",
      " * Running on http://127.0.0.1:1900\n",
      "Press CTRL+C to quit\n",
      "127.0.0.1 - - [19/Jul/2025 12:07:59] \"POST /delete HTTP/1.1\" 200 -\n",
      "127.0.0.1 - - [19/Jul/2025 12:08:19] \"POST /delete HTTP/1.1\" 200 -\n"
     ]
    }
   ],
   "source": [
    "from flask import Flask, request\n",
    "\n",
    "import sqlite3\n",
    "\n",
    "app = Flask(__name__)\n",
    "\n",
    "@app.route(\"/register\", methods = ['POST'])\n",
    "def register():\n",
    "    try:\n",
    "        data = request.get_json()\n",
    "        connection = sqlite3.connect(\"sample.db\")\n",
    "        cursor = connection.cursor()\n",
    "        cursor.execute(\"CREATE TABLE IF NOT EXISTS employee(ID text, password TEXT)\")\n",
    "        cursor.execute(\"Insert into employee values ('{}','{}')\".format(data[\"id\"], data[\"password\"]))\n",
    "        connection.commit()\n",
    "        connection.close()\n",
    "        return \"Employees details have been registered successfully\"\n",
    "    except:\n",
    "        return \"Error in register\"\n",
    "@app.route(\"/show\")\n",
    "def show():\n",
    "    connection = sqlite3.connect(\"sample.db\")\n",
    "    cursor = connection.cursor()\n",
    "    employee_data = list(cursor.execute(\"SELECT * FROM employee\"))\n",
    "    return {\"Employee_details\": employee_data}\n",
    "\n",
    "@app.route(\"/update\", methods = ['POST'])\n",
    "def update():\n",
    "    try:\n",
    "        data = request.get_json()\n",
    "        connection = sqlite3.connect(\"sample.db\")\n",
    "        cursor = connection.cursor()\n",
    "        cursor.execute(\"UPDATE employee SET password = '{}' where id ='{}'\".format(data[\"password\"], data[\"id\"]))\n",
    "        connection.commit()\n",
    "        connection.close()\n",
    "        return \"Employees password have been updated successfully\"\n",
    "    except:\n",
    "        return \"There is some error in your input please try again\"\n",
    "\n",
    "        \n",
    "@app.route(\"/delete\", methods = ['POST'])\n",
    "def delete():\n",
    "    try:\n",
    "    \n",
    "        data = request.get_json()\n",
    "        connection = sqlite3.connect(\"sample.db\")\n",
    "        cursor = connection.cursor()\n",
    "        cursor.execute(\"DELETE from employee where id = '{}'\".format(data[\"id\"]))\n",
    "        connection.commit()\n",
    "        if cursor.rowcount==0:\n",
    "            return \"Account not found\"\n",
    "        return \"Employee details have been deleted successfully\"\n",
    "        connection.close()\n",
    "        \n",
    "    except:\n",
    "        return \"Unable to find account\"\n",
    "\n",
    "app.run(port = 1900)"
   ]
  },
  {
   "cell_type": "code",
   "execution_count": null,
   "id": "79e3cd48-558c-4267-a4a0-9b2aa5b3abb5",
   "metadata": {},
   "outputs": [],
   "source": []
  },
  {
   "cell_type": "code",
   "execution_count": null,
   "id": "14c22017-f1eb-413b-abd4-b529b6ee22f6",
   "metadata": {},
   "outputs": [],
   "source": []
  },
  {
   "cell_type": "code",
   "execution_count": null,
   "id": "70041f86-efe9-4859-97fd-67a3e18ec556",
   "metadata": {},
   "outputs": [],
   "source": []
  }
 ],
 "metadata": {
  "kernelspec": {
   "display_name": "Python [conda env:base] *",
   "language": "python",
   "name": "conda-base-py"
  },
  "language_info": {
   "codemirror_mode": {
    "name": "ipython",
    "version": 3
   },
   "file_extension": ".py",
   "mimetype": "text/x-python",
   "name": "python",
   "nbconvert_exporter": "python",
   "pygments_lexer": "ipython3",
   "version": "3.13.5"
  }
 },
 "nbformat": 4,
 "nbformat_minor": 5
}
