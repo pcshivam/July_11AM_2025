{
 "cells": [
  {
   "cell_type": "code",
   "execution_count": 1,
   "id": "f07f9bb5-1850-4675-adee-a9c5ceda0a93",
   "metadata": {},
   "outputs": [],
   "source": [
    "from flask import Flask   #ipmort class name flask"
   ]
  },
  {
   "cell_type": "code",
   "execution_count": 2,
   "id": "8201e11c-5b2f-489f-b88c-bfc6b13f3d60",
   "metadata": {},
   "outputs": [],
   "source": [
    "app = Flask(__name__)      # create object\n",
    "@app.route(\"/home\")        # end point"
   ]
  },
  {
   "cell_type": "code",
   "execution_count": null,
   "id": "513b611c-7ffe-480d-9154-ae18b0471df1",
   "metadata": {},
   "outputs": [],
   "source": []
  }
 ],
 "metadata": {
  "kernelspec": {
   "display_name": "Python 3 (ipykernel)",
   "language": "python",
   "name": "python3"
  },
  "language_info": {
   "codemirror_mode": {
    "name": "ipython",
    "version": 3
   },
   "file_extension": ".py",
   "mimetype": "text/x-python",
   "name": "python",
   "nbconvert_exporter": "python",
   "pygments_lexer": "ipython3",
   "version": "3.13.5"
  }
 },
 "nbformat": 4,
 "nbformat_minor": 5
}
