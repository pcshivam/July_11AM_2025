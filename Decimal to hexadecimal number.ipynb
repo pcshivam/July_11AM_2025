{
 "cells": [
  {
   "cell_type": "markdown",
   "id": "0834cb45",
   "metadata": {},
   "source": [
    "# Write a program to Convert Decimal to hexadecimal in python"
   ]
  },
  {
   "cell_type": "code",
   "execution_count": 17,
   "id": "df16be85",
   "metadata": {},
   "outputs": [],
   "source": [
    "def dec_to_hex(number):\n",
    "    return hex(number)"
   ]
  },
  {
   "cell_type": "code",
   "execution_count": 18,
   "id": "69447e1b",
   "metadata": {},
   "outputs": [
    {
     "data": {
      "text/plain": [
       "'0xff'"
      ]
     },
     "execution_count": 18,
     "metadata": {},
     "output_type": "execute_result"
    }
   ],
   "source": [
    "dec_to_hex(255)"
   ]
  },
  {
   "cell_type": "code",
   "execution_count": 16,
   "id": "6bb1945d",
   "metadata": {},
   "outputs": [
    {
     "name": "stdout",
     "output_type": "stream",
     "text": [
      "Enter the number: 255\n",
      "Hexadecimal form using hex() is ff\n"
     ]
    }
   ],
   "source": [
    "num = int(input(\"Enter the number: \"))\n",
    "\n",
    "output = dec_to_hex(num)\n",
    "\n",
    "print(\"Hexadecimal form using hex() is {}\".format(output[2:]))"
   ]
  },
  {
   "cell_type": "code",
   "execution_count": 19,
   "id": "d14e1c8a",
   "metadata": {},
   "outputs": [],
   "source": [
    "# 8600998107"
   ]
  },
  {
   "cell_type": "code",
   "execution_count": 20,
   "id": "daf831a8",
   "metadata": {},
   "outputs": [],
   "source": [
    "binary_number = \"110100\"\n",
    "octal_number = \"72\"\n",
    "hexadecimal_number = \"2B\"\n",
    "\n",
    "decimal_from_binary = int(binary_number, 2)\n",
    "decimal_from_octal = int(octal_number, 8)\n",
    "decimal_from_hexadecimal = int(hexadecimal_number, 16)"
   ]
  },
  {
   "cell_type": "code",
   "execution_count": 21,
   "id": "d686bb39",
   "metadata": {},
   "outputs": [],
   "source": [
    "# how to convert list to string in python"
   ]
  },
  {
   "cell_type": "code",
   "execution_count": 22,
   "id": "ab938cad",
   "metadata": {},
   "outputs": [],
   "source": [
    "my_list = ['Hi', 'How', 'are', 'you']"
   ]
  },
  {
   "cell_type": "code",
   "execution_count": 23,
   "id": "2ceea7ab",
   "metadata": {},
   "outputs": [
    {
     "name": "stdout",
     "output_type": "stream",
     "text": [
      "['Hi', 'How', 'are', 'you']\n"
     ]
    }
   ],
   "source": [
    "print(my_list)"
   ]
  },
  {
   "cell_type": "code",
   "execution_count": 26,
   "id": "e8d55ff8",
   "metadata": {},
   "outputs": [],
   "source": [
    "my_string = ' '.join(my_list)"
   ]
  },
  {
   "cell_type": "code",
   "execution_count": 27,
   "id": "a45fcf78",
   "metadata": {},
   "outputs": [
    {
     "data": {
      "text/plain": [
       "'Hi How are you'"
      ]
     },
     "execution_count": 27,
     "metadata": {},
     "output_type": "execute_result"
    }
   ],
   "source": [
    "my_string"
   ]
  },
  {
   "cell_type": "code",
   "execution_count": 28,
   "id": "390ed467",
   "metadata": {},
   "outputs": [],
   "source": [
    "# How to convert string into list"
   ]
  },
  {
   "cell_type": "code",
   "execution_count": 41,
   "id": "f89711cf",
   "metadata": {},
   "outputs": [],
   "source": [
    "my_string = \"Welcome to Technogeeks!!!\""
   ]
  },
  {
   "cell_type": "code",
   "execution_count": 42,
   "id": "61f71c1e",
   "metadata": {},
   "outputs": [],
   "source": [
    "my_list = my_string.split()"
   ]
  },
  {
   "cell_type": "code",
   "execution_count": 43,
   "id": "fccc50eb",
   "metadata": {},
   "outputs": [
    {
     "data": {
      "text/plain": [
       "['Welcome', 'to', 'Technogeeks!!!']"
      ]
     },
     "execution_count": 43,
     "metadata": {},
     "output_type": "execute_result"
    }
   ],
   "source": [
    "my_list"
   ]
  },
  {
   "cell_type": "code",
   "execution_count": 44,
   "id": "8be93e0f",
   "metadata": {},
   "outputs": [
    {
     "data": {
      "text/plain": [
       "3"
      ]
     },
     "execution_count": 44,
     "metadata": {},
     "output_type": "execute_result"
    }
   ],
   "source": [
    "len(my_list)"
   ]
  },
  {
   "cell_type": "code",
   "execution_count": 48,
   "id": "93164874",
   "metadata": {},
   "outputs": [
    {
     "name": "stdout",
     "output_type": "stream",
     "text": [
      "go and check in\n"
     ]
    }
   ],
   "source": [
    "room = \"amazon\"\n",
    "if room == \"amazon\":\n",
    "    print( \"go and check in\")\n",
    "elif room == \"bhumi\":\n",
    "    print( \"room is not book\")\n",
    "elif room==\"nalanda\":\n",
    "    print( \"Go to Reseption\")\n",
    "elif room==\"takshashila\":\n",
    "    print( \"conduct your metting\")\n",
    "else:\n",
    "    print( \"book your room in MI QUBE APP\")"
   ]
  },
  {
   "cell_type": "code",
   "execution_count": null,
   "id": "a3dacac4",
   "metadata": {},
   "outputs": [],
   "source": []
  }
 ],
 "metadata": {
  "kernelspec": {
   "display_name": "Python 3 (ipykernel)",
   "language": "python",
   "name": "python3"
  },
  "language_info": {
   "codemirror_mode": {
    "name": "ipython",
    "version": 3
   },
   "file_extension": ".py",
   "mimetype": "text/x-python",
   "name": "python",
   "nbconvert_exporter": "python",
   "pygments_lexer": "ipython3",
   "version": "3.11.5"
  }
 },
 "nbformat": 4,
 "nbformat_minor": 5
}
